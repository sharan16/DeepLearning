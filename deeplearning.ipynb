{
  "nbformat": 4,
  "nbformat_minor": 0,
  "metadata": {
    "colab": {
      "name": "deeplearning.ipynb",
      "version": "0.3.2",
      "provenance": [],
      "include_colab_link": true
    },
    "kernelspec": {
      "name": "python3",
      "display_name": "Python 3"
    }
  },
  "cells": [
    {
      "cell_type": "markdown",
      "metadata": {
        "id": "view-in-github",
        "colab_type": "text"
      },
      "source": [
        "<a href=\"https://colab.research.google.com/github/sharan16/DeepLearning/blob/master/deeplearning.ipynb\" target=\"_parent\"><img src=\"https://colab.research.google.com/assets/colab-badge.svg\" alt=\"Open In Colab\"/></a>"
      ]
    },
    {
      "cell_type": "code",
      "metadata": {
        "id": "VCjGTcez-9vg",
        "colab_type": "code",
        "outputId": "05e73f27-80da-4888-aa0b-7b92826b8cd5",
        "colab": {
          "base_uri": "https://localhost:8080/",
          "height": 68
        }
      },
      "source": [
        "import tensorflow as tf\n",
        "x1 =  tf.constant(2)\n",
        "x2 = tf.constant(3)\n",
        "result = tf.multiply(x1,x2)\n",
        "print (result)\n",
        "sess = tf.Session()\n",
        "with tf.Session() as sess:\n",
        "  output = sess.run(result)\n",
        "  print(output)\n",
        "print(output)"
      ],
      "execution_count": 0,
      "outputs": [
        {
          "output_type": "stream",
          "text": [
            "Tensor(\"Mul_5:0\", shape=(), dtype=int32)\n",
            "6\n",
            "6\n"
          ],
          "name": "stdout"
        }
      ]
    }
  ]
}